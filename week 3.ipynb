{
  "cells": [
    {
      "metadata": {
        "collapsed": true
      },
      "cell_type": "markdown",
      "source": "# Python exercises\n\n\n# Control Flow:\n\n1. What is the difference between 10/3 and 10//3:\n> 10 / 3 will return 3.3333 and 10 // 3 will return 3. The former is floating point division, and the latter is floor division, also called integer division.\n2. What is te result of 10 ** 3: \n> 1000\n3. Given (x=1), what will be the value of after we run (x+=2)\n> 3\n4. How can we round a number\n> Python has a built-in round() function that takes two numeric arguments, (n and ndigits) , and returns the number n rounded to ndigits . The default value of ndiits is zero.\n5. What is the result of float(1):\n> 1.0\n\n\n# Function\n\n1. What is the difference between a parameter and an argument\n> Parameters are temporary variable names within functions. The argument can be thought of as the value that is assigned to that temporary variable. for example:\n def capitalize(word):\n    return upper(word)\n caplitalize(hello)     #word is the paramenter and hello is the argument  \n2. All functions in python by default return:\n> None\n3. What are keyword arguments and when should we use them:\n> Kayword arguments are used in calling functions in Python. Keyword arguments can often be used to make function calls more explicit\n4. How can we make a parameter of a function optional\n> optional parameters are specified using the = operator in the function call i.e def function(param1, optionalparam2 = 2):\n5. What happens when we prefix a parameter with an asterisk (*)\n> When defining a function, the * operator can be used to unpack an iterable into the arguments in the function call \n6. What about two asterisks (**)\n> The ** operator allows us to take a dictionary of key-value pairs and unpack it into keyword arguments in a function call.\n7. What is scope\n> Scope refers to the visibility of variables. In other words, which parts of your program can see or use it.\n8. What is the difference between between local and global variables\n> Global variables are declared outside any function, and they can be accessed (used) on any function in the program. Local variables are declared inside a function, and can be used only inside that function.\n9. Why is using the global statement a bad practice\n> a global variable can be changed from anywhere in te proram, that makes it difficult in any reasonably complex program to keep track of what values are in that global at any time."
    },
    {
      "metadata": {
        "trusted": true
      },
      "cell_type": "markdown",
      "source": "# Operations\n\nOperators are used to perform operations on variables and values.\n\nPython divides the operators in the following groups:\n\n- Arithmetic operators\n- Assignment operators\n- Comparison operators\n- Logical operators\n- Identity operators\n- Membership operators\n- Bitwise operators\n\n..1. Arithmetic operators: Arithmetic operators are used with numeric values to perform common mathematical operations\n- +\tAddition\t\n- -\tSubtraction\t\t\n- *\tMultiplication\t\t\n- /\tDivision; result is always a float number \t\t\n- %\tModulus\t: outputs\t\n- ** Exponentiation\t\n- // Floor division; result is always an inteer \n\n--2. Assignment operators: Assignment operators are used to assign values to variables\n- =\t \tAssigns a value to a variable\n- +=\tPerforms addition operation, and then assigns the new value into the variable  \n- -=\t \tPerforms subtraction operation, and then assigns the new value into the variable \n- *=\t  \tPerforms multiplication operation, and then assigns the new value into the variable \n- /=\t \tPerforms division operation, and then assigns the new value into the variable \n- %=\t \tPerforms modulus operation, and then assigns the new value into the variable \n- //=\t \tPerforms floor division operation, and then assigns the new value into the variable \n- **=\t Performs exponential operation, and then assigns the new value into the variable \n- &=\t \n- |=\t \t\n- ^=\t \n- '>>=' \n- '<<='\n\n--3. Comparison Operators: Comparison operators are used to compare two values\n- ==\tEqual\tx == y\t\n- !=\tNot equal\tx != y\t\n- '>'\tGreater than\tx > y\t\n- '<'\tLess than\tx < y\t\n- '>='\tGreater than or equal to\tx >= y\t\n- '<='\tLess than or equal to       x <= y\t\n\n--4. Logical Operators: Logical operators are used to combine conditional statements\n- and \tReturns True if both statements are true\tx < 5 and  x < 10\t\n- or\tReturns True if one of the statements is true\tx < 5 or x < 4\t\n- not\tReverse the result, returns False if the result is true\t\n\n--5. Identity Operators: Identity operators are used to compare the objects, not if they are equal, but if they are actually the same object, with the same memory location\n- is \tReturns true if both variables are the same object\tx is y\t\n- is not\tReturns true if both variables are not the same object\n\n--6. Membersip Operators: Membership operators are used to test if a sequence is presented in an object\n- in \tReturns True if a sequence with the specified value is present in the object\tx in y\t\n- not in\tReturns True if a sequence with the specified value is not present in the object\n\n--7. Bitwise Operators: Bitwise operators are used to compare (binary) numbers\n- & (AND)\tSets each bit to 1 if both bits are 1\n- |\t(OR)\tSets each bit to 1 if one of two bits is 1\n- ^\t(XOR)\tSets each bit to 1 if only one of two bits is 1\n- ~ (NOT)\tInverts all the bits\n- '<<'\t(Zero fill left shift)\tShift left by pushing zeros in from the right and let the leftmost bits fall off\n- '>>'\t(Signed right shift)  Shift right by pushing copies of the leftmost bit in from the left, and let the rightmost bits fall off"
    },
    {
      "metadata": {
        "trusted": true
      },
      "cell_type": "markdown",
      "source": "# Dictionaries\n\nPython dictionary is an unordered collection of items. While other compound data types have only value as an element, a dictionary has a key: value pair.\n\nDictionary operations;\n\n\n# 1. \n\nCreating a dictionary: \nCreating a dictionary is as simple as placing items inside curly braces {} separated by comma. An item has a key and the corresponding value expressed as a pair, key: value.\nWhile values can be of any data type and can repeat, keys must be of immutable type (string, number or tuple with immutable elements) and must be unique.\n\n# 2.\nAccessing a Dictionary: Dictionary is not an ordered collection, so a value cannot be accessed using an index in square brackets. A value in a dictionary can be fetched using the associated key, \n- using the get() method, specify the key in the get() method to retrieve its value.\n- using the for loop to iterate a dictionary in the Python script.\n\n# 3.\nUpdating a Dictionary: a key cannot appear more than once. Use the same key and assign a new value to it to update the dictionary object.\n\n# 4.\nDeleting Values from a Dictionary: Use the del keyword to delete a pair from a dictionary or the dictionary object itself. To delete a pair, use its key as parameter. To delete a dictionary object, use its name.\n\n# 5.\nView Keys and Values: keys() and values() methods of Python dictionary class return a view object consisting of keys and values respectively\n\n\nBuilt-in Dictionary Methods\n- len(), max(), min() ,\n- pop(): removes and returns the last element\n- items(): Returns a list of tuples, each tuple containing the key and value of each pair.\n- keys(): Returns a list object comprising of the keys in the dictionary.\n- values(): Returns a list object comprising of the values in the dictionary.\n- update(): Adds key-value pairs from the second dictionary object to the first. If the second dictionary contains a key already used in first dictionary object, its value is updated."
    },
    {
      "metadata": {
        "trusted": true
      },
      "cell_type": "code",
      "source": "# empty dictionary\nmy_dict = {}\n\n# dictionary with integer keys\nmy_dict = {1: 'apple', 2: 'ball'}\n\n# dictionary with mixed keys\nmy_dict = {'name': 'John', 1: [2, 4, 3]}",
      "execution_count": 1,
      "outputs": []
    },
    {
      "metadata": {
        "trusted": true
      },
      "cell_type": "code",
      "source": "",
      "execution_count": null,
      "outputs": []
    }
  ],
  "metadata": {
    "kernelspec": {
      "name": "python36",
      "display_name": "Python 3.6",
      "language": "python"
    },
    "language_info": {
      "mimetype": "text/x-python",
      "nbconvert_exporter": "python",
      "name": "python",
      "pygments_lexer": "ipython3",
      "version": "3.6.6",
      "file_extension": ".py",
      "codemirror_mode": {
        "version": 3,
        "name": "ipython"
      }
    }
  },
  "nbformat": 4,
  "nbformat_minor": 2
}