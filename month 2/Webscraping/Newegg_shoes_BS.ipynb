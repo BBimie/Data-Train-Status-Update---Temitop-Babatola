{
  "nbformat": 4,
  "nbformat_minor": 0,
  "metadata": {
    "kernelspec": {
      "display_name": "Python 3",
      "language": "python",
      "name": "python3"
    },
    "language_info": {
      "codemirror_mode": {
        "name": "ipython",
        "version": 3
      },
      "file_extension": ".py",
      "mimetype": "text/x-python",
      "name": "python",
      "nbconvert_exporter": "python",
      "pygments_lexer": "ipython3",
      "version": "3.7.3"
    },
    "colab": {
      "name": "Newegg shoes BS.ipynb",
      "provenance": []
    }
  },
  "cells": [
    {
      "cell_type": "code",
      "metadata": {
        "id": "k5s-4S5R0sUT",
        "colab_type": "code",
        "colab": {}
      },
      "source": [
        "import requests\n",
        "from bs4 import BeautifulSoup"
      ],
      "execution_count": 0,
      "outputs": []
    },
    {
      "cell_type": "code",
      "metadata": {
        "id": "1nktKHQz0sUe",
        "colab_type": "code",
        "colab": {}
      },
      "source": [
        "my_url = 'https://www.newegg.com/p/pl?d=shoes'"
      ],
      "execution_count": 0,
      "outputs": []
    },
    {
      "cell_type": "code",
      "metadata": {
        "id": "2P9QiLvt0sUm",
        "colab_type": "code",
        "colab": {}
      },
      "source": [
        "result = requests.get(my_url)"
      ],
      "execution_count": 0,
      "outputs": []
    },
    {
      "cell_type": "code",
      "metadata": {
        "id": "QffzKx_S0sUt",
        "colab_type": "code",
        "outputId": "ead44752-155b-4b08-9f75-737619841d84",
        "colab": {
          "base_uri": "https://localhost:8080/",
          "height": 34
        }
      },
      "source": [
        "#confirm if the request was sucessful, an outputof 200 means success\n",
        "print(result.status_code)"
      ],
      "execution_count": 0,
      "outputs": [
        {
          "output_type": "stream",
          "text": [
            "200\n"
          ],
          "name": "stdout"
        }
      ]
    },
    {
      "cell_type": "code",
      "metadata": {
        "id": "uQYpAIXf0sU2",
        "colab_type": "code",
        "outputId": "7043347c-868a-445a-cfb5-1dc7246a8cef",
        "colab": {
          "base_uri": "https://localhost:8080/",
          "height": 54
        }
      },
      "source": [
        "#extrainformation on the webpage\n",
        "print(result.headers)"
      ],
      "execution_count": 0,
      "outputs": [
        {
          "output_type": "stream",
          "text": [
            "{'Content-Type': 'text/html', 'NEL': '{\"report_to\": \"default\", \"max_age\": 2592000}`);', 'Report-To': '{\"group\":\"default\",\"max-age\":10886400,\"include_subdomains\":\"true\",\"endpoints\":[{\"url\":\"https://pf.newegg.com/csp\"}]};', 'Content-Security-Policy': \"frame-ancestors 'self';, upgrade-insecure-requests\", 'X-Frame-Options': 'SAMEORIGIN', 'Content-Encoding': 'gzip', 'Cache-Control': 'private, max-age=0', 'Date': 'Fri, 03 Jan 2020 19:13:47 GMT', 'Content-Length': '3511', 'Connection': 'keep-alive', 'Vary': 'Accept-Encoding', 'Set-Cookie': 'NV_NVTCTIMESTAMP=1578078828; domain=.newegg.com; expires=Mon, 02-Jan-23 19:13:47 GMT; path=/;secure, NSC_mc-xxx.ofxfhh.dpn-vsmibti=5ccba3d8e5298caab4a589a9faf558cf92718980218706d442222e96b59e237f32fc8ef3;expires=Fri, 03-Jan-2020 19:42:25 GMT;path=/;secure', 'Strict-Transport-Security': 'max-age=31536000'}\n"
          ],
          "name": "stdout"
        }
      ]
    },
    {
      "cell_type": "code",
      "metadata": {
        "id": "2rKi00Th0sU9",
        "colab_type": "code",
        "outputId": "e8c9ee3b-55eb-4f01-a8b3-34237740629b",
        "colab": {
          "base_uri": "https://localhost:8080/",
          "height": 54
        }
      },
      "source": [
        "#return the source of the page, obtains the content of the webpage\n",
        "src = result.content\n",
        "print(src)"
      ],
      "execution_count": 0,
      "outputs": [
        {
          "output_type": "stream",
          "text": [
            "b'\\n<!DOCTYPE html>\\n<html xmlns=\"http://www.w3.org/1999/xhtml\" lang=\"en\">\\n<head>\\n<title>Are you a human?</title>\\n<meta http-equiv=\"X-UA-Compatible\" content=\"IE=EDGE\" /><meta charset=\"UTF-8\" />\\n<link rel=\"shortcut icon\" type=\"image/x-icon\" href=\"//c1.neweggimages.com/WebResource/Themes/2005/Nest/Newegg.ico\">\\n<link rel=\"stylesheet\" type=\"text/css\" href=\"https://fonts.googleapis.com/css?family=Open+Sans:400,300,300italic,400italic,700,700italic|Open+Sans+Condensed:300,300italic,700\">\\n<style type=\"text/css\">\\np{font-size:16px;color:#4d4d4d;padding:0;margin:0 0 5px}a img,a:hover img,a:visited img{border:0}.button-primary,.button-primary:focus,.button-primary:link,.button-primary:visited{font-family:\\'Open Sans Condensed\\',\\'Arial Narrow\\',\\'Helvetica Narrow\\',arial,helvetica,sans-serif;letter-spacing:1px;font-size:14px;font-weight:700;font-stretch:condensed;text-align:center;text-decoration:none;cursor:pointer;border-radius:4px;border:2px solid #E68626;display:inline-block;padding:9px 15px;margin:15px 0 0;outline:0;color:#552F00;background-color:#FFC010;background:linear-gradient(to bottom,#FFC010,#F9A21B);text-transform:uppercase}h1,h2{padding:0}.button-primary:active,.button-primary:hover{color:#552F00;background-color:#F9A21B;background:linear-gradient(to bottom,#F9A21B,#FFC010);border-color:#E68626}h1{margin:0;font-size:100px;line-height:120px;font-weight:700;color:#33425a}h2{color:#cc4e00;font-size:29px;margin:10px 0 20px}\\n.lds-ripple{display:inline-block;position:relative;width:64px;height:64px}.lds-ripple div{position:absolute;border:4px solid #cc4e00;opacity:1;border-radius:50%;animation:lds-ripple 1s cubic-bezier(0,.2,.8,1) infinite}.lds-ripple div:nth-child(2){animation-delay:-.5s}@keyframes lds-ripple{0%{top:28px;left:28px;width:0;height:0;opacity:1}100%{top:-1px;left:-1px;width:58px;height:58px;opacity:0}}\\n</style>\\n<script type=\"text/javascript\" src=\"//c1.neweggimages.com/WebResource/Scripts/USA/TP_jQueryPlugin/jquery-1.10.2.min.js?purge=1\"></script>\\n<script src=\\'https://www.google.com/recaptcha/api.js?render=6LdAn3UUAAAAAKt8pKdAdZf83OwfA2QhtacSvywE\\'></script>\\n<script type=\"text/javascript\">\\nvar win = jQuery(this);\\nif (win.width() < 900) {\\n    window.resizeTo(900, win.height());\\n}\\nvar why = \\'0\\';\\nfunction getReferer() {\\n    var reg = new RegExp(\"(^|&)referer=([^&]*)(&|$)\");\\n    var r = window.location.search.substr(1).match(reg);\\n    var referer = window.location.origin;\\n    if (r) {\\n        referer = unescape(r[2]);\\n    }\\n    if (referer.indexOf(\\'?\\') > 0) {\\n        referer += \\'&\\';\\n    } else {\\n        referer += \\'?\\';\\n    }\\n    referer += \\'recaptcha=pass\\';\\n\\n    return referer;\\n}\\nvar postEventData = function (refer) {\\n    var items = location.hostname.split(\\'.\\');\\n    items.shift();\\n    var topDomain = items.join(\\'.\\');\\n    var reg = /^https?\\\\:\\\\/\\\\/\\\\w+\\\\.([^\\\\/\\\\s]+)/;\\n    var match = refer.match(reg);\\n    if(match){\\n        if(match[1] !== topDomain) {\\n            refer = location.origin;\\n        }\\n    }\\n    else {\\n        refer = location.origin+\\'/\\'+refer.replace(/^\\\\//,\\'\\');\\n    }\\n    jQuery.ajax({\\n        type: \"POST\",\\n        url: \"https://pf.newegg.com/r3\",\\n        data: JSON.stringify({c: document.cookie }),\\n        dataType: \"json\",\\n        contentType: \"application/json\",\\n        timeout:2000,\\n        success: function () {\\n            window.location.href = refer;\\n        }\\n    }).fail(function () {\\n        window.location.href = refer;\\n    });\\n};\\ngrecaptcha.ready(function() {\\n    grecaptcha.execute(\\'6LdAn3UUAAAAAKt8pKdAdZf83OwfA2QhtacSvywE\\', {action: \\'recaptcha\\'})\\n    .then(function(token) {\\n        jQuery.post(window.location.href, { t: token,t2:\\'s1\\', cookieEnabled: !!navigator.cookieEnabled, why: why }, function (data, status) {\\n            if (data === \\'success\\') {\\n                var refer = getReferer();\\n                postEventData(refer);\\n                var noprotocl = refer.replace(\"http://\", \"\").replace(\"https://\", \"\");\\n                var questionMarkLocation = noprotocl.indexOf(\"?\");\\n                var label = questionMarkLocation > 0 ? noprotocl.slice(0, questionMarkLocation) : noprotocl;\\n                ga(\\'send\\', \\'event\\', \\'Captcha\\', \\'Click\\', label);\\n                \\n            } else {\\n                window.location.href = window.location.origin + window.location.pathname + \\'?\\' + \\'itn=true&\\' + (location.search || \\'?\\').substring(1);\\n            }\\n        });\\n    });\\n});\\n(function (i, s, o, g, r, a, m) {\\n    i[\\'GoogleAnalyticsObject\\'] = r; i[r] = i[r] || function () {\\n        (i[r].q = i[r].q || []).push(arguments)\\n    }, i[r].l = 1 * new Date(); a = s.createElement(o),\\n    m = s.getElementsByTagName(o)[0]; a.async = 1; a.src = g; m.parentNode.insertBefore(a, m)\\n})(window, document, \\'script\\', \\'https://www.google-analytics.com/analytics.js\\', \\'ga\\');\\nga(\\'create\\', \\'UA-1147542-13\\', \\'auto\\');\\nga(\\'send\\', \\'pageview\\');\\n</script>\\n</head>\\n<body style=\"font-family: \\'Open Sans\\', Helvetica, Arial, sans-serif; line-height: 1.36;\">\\n<div style=\"max-width: 1000px;min-width: 760px;overflow: hidden;margin:100px auto;\">\\n    <div style=\"float: left;padding: 50px 10px 40px 10px; width: 250px; box-sizing: border-box;\">\\n\\t    <a style=\"border: none;\" href=\"https://www.newegg.com/\">\\n\\t        <img alt=\"\" width=\"216\" src=\"//images10.newegg.com/WebResource/Themes/2005/Nest/logo_print.png\" />\\n\\t    </a>\\n    </div>\\n    <div style=\"border-left: 1px solid #ccc; padding: 30px 10px 70px 40px; margin-left: 250px;\">\\n\\t\\t<h1>Human?</h1>\\n\\t    <h2>Are you a human?</h2>\\n\\t    <p style=\"margin-bottom: 10px;\">We apologize for the confusion, but we can\\'t quite tell if you\\'re a person or a script.</p>\\n\\t    <p style=\"margin-bottom: 10px;\">Please don\\'t take this personally. Bots and scripts can be very much lifelike these days!</p>\\n\\t    <p style=\"margin-bottom: 40px;\">To help us better protect your account security, please check the reCAPTCHA box below.</p>\\n\\t    <div class=\"lds-ripple\"><div></div><div></div></div>\\n        <p>detecting...</p>\\n        <script>var cookiesEnable=\"cookie\" in document&&(document.cookie.length>0||(document.cookie=\"test\").indexOf.call(document.cookie,\"test\")>-1);cookiesEnable||document.write(\\'<p id=\"cookie\" style=\"margin-top: 40px;\">We use cookies to provide functionalities and bring better user experience to you. Please allow cookies for Newegg site.</p>\\');</script>\\n\\t    <p style=\"margin-top: 40px;\">If you\\'re interested in accessing Newegg API service, please <a href=\"#\" title=\"Request Access to Newegg API\" onclick=\"javascript:newegg_inhouse_feedback2 && newegg_inhouse_feedback2.show();\" style=\"cursor: pointer;text-decoration: underline; color: #000;\">submit a request</a>.</p>\\n\\t    <p style=\"margin-top: 40px;\">We would love to hear your opinion. <a href=\"#\" title=\"feedback\" onclick=\"javascript:newegg_inhouse_feedback && newegg_inhouse_feedback.show();\" id=\"newegg_footer_feedback\" style=\"cursor: pointer;text-decoration: underline; color: #000;\">Let us know your feedback</a>.</p>\\n\\t</div>\\n\\t<script type=\"text/javascript\">\\n\\tvar _na = _na || [];\\n\\t(function() {\\n\\t  var na = document.createElement(\\'script\\'); na.type = \\'text/javascript\\'; na.async = true;\\n\\t  na.src = \\'https://pf.newegg.com/na.js\\';\\n\\t  var s = document.getElementsByTagName(\\'script\\')[0]; s.parentNode.insertBefore(na, s);\\n    })();\\n    var newegg_inhouse_feedback=null,newegg_inhouse_feedback2=null;!function(){var e=document.location.protocol;if(\"http:\"==e||\"https:\"==e){var n=document.createElement(\"script\");n.type=\"text/javascript\",n.async=!0,n.src=\"//promotions.newegg.com/Newegg/Survey/newegg-feedback.min.js\";var g=document.getElementsByTagName(\"head\")[0].childNodes[0];g.parentNode.insertBefore(n,g),n.onload=function(){null==newegg_inhouse_feedback&&(newegg_inhouse_feedback=new neweggFeedback.NeweggSurvey({cardType:\"Id\",key:\"027BC6DB\"})),null==newegg_inhouse_feedback2&&(newegg_inhouse_feedback2=new neweggFeedback.NeweggSurvey({cardType:\"Id\",key:\"D762FCF1\"}))}}}();\\n\\tvar Web={StateManager:{Cookies:{get:function(e){for(var t=document.cookie.split(\";\"),n=0;n<t.length;n++){var o=t[n].split(\"=\");if(e==decodeURIComponent(o[0].trim()))return unescape(o[1])}return null},Name:{UTMA:\"__utma\",NVTC:\"NVTC\",NID:\"NV_NID\",SPT:\"NV_SPT\"}}}};\\n\\t</script>\\n</div>\\n</body>\\n</html>\\n'\n"
          ],
          "name": "stdout"
        }
      ]
    },
    {
      "cell_type": "code",
      "metadata": {
        "id": "Foj6l_Z60sVG",
        "colab_type": "code",
        "colab": {}
      },
      "source": [
        "#parse and process the source with beautiful soup\n",
        "soup = BeautifulSoup(src, 'lxml')"
      ],
      "execution_count": 0,
      "outputs": []
    },
    {
      "cell_type": "code",
      "metadata": {
        "id": "vrXIlVqc0sVN",
        "colab_type": "code",
        "outputId": "e9f08607-abc4-4af5-a421-c65678487af4",
        "colab": {
          "base_uri": "https://localhost:8080/",
          "height": 125
        }
      },
      "source": [
        "#use soup to get specific items from the webpage\n",
        "links = soup.find_all('a')\n",
        "print(links)\n",
        "print('\\n')"
      ],
      "execution_count": 0,
      "outputs": [
        {
          "output_type": "stream",
          "text": [
            "[<a href=\"https://www.newegg.com/\" style=\"border: none;\">\n",
            "<img alt=\"\" src=\"//images10.newegg.com/WebResource/Themes/2005/Nest/logo_print.png\" width=\"216\"/>\n",
            "</a>, <a href=\"#\" onclick=\"javascript:newegg_inhouse_feedback2 &amp;&amp; newegg_inhouse_feedback2.show();\" style=\"cursor: pointer;text-decoration: underline; color: #000;\" title=\"Request Access to Newegg API\">submit a request</a>, <a href=\"#\" id=\"newegg_footer_feedback\" onclick=\"javascript:newegg_inhouse_feedback &amp;&amp; newegg_inhouse_feedback.show();\" style=\"cursor: pointer;text-decoration: underline; color: #000;\" title=\"feedback\">Let us know your feedback</a>]\n",
            "\n",
            "\n"
          ],
          "name": "stdout"
        }
      ]
    },
    {
      "cell_type": "code",
      "metadata": {
        "id": "aheCLQ3Q0sVb",
        "colab_type": "code",
        "colab": {}
      },
      "source": [
        "#grabs each product\n",
        "list_wrap = soup.findAll('div', {'class' : 'item-container'})\n",
        "wanted = list_wrap[4:]"
      ],
      "execution_count": 0,
      "outputs": []
    },
    {
      "cell_type": "markdown",
      "metadata": {
        "id": "TzHx1akG0sVi",
        "colab_type": "text"
      },
      "source": [
        "Use find() to find specific tags in an item container like this;\n",
        "\n",
        ">item_container.find('tag', {'class/id' : 'class-name'})"
      ]
    },
    {
      "cell_type": "code",
      "metadata": {
        "id": "npf8P40a0sVl",
        "colab_type": "code",
        "outputId": "09c8163f-893e-4226-ee6c-911dde18fab4",
        "colab": {
          "base_uri": "https://localhost:8080/",
          "height": 247
        }
      },
      "source": [
        "name=[]\n",
        "branding = []\n",
        "original_price = []\n",
        "current_price = []\n",
        "ship = []\n",
        "for item in wanted:\n",
        "    item_name = item.find('a', class_ = 'item-title').get_text()\n",
        "    name.append(item_name)\n",
        "    \n",
        "    item_descr = item_name.split()\n",
        "    brand = item_descr[0]\n",
        "    branding.append(brand)\n",
        "    \n",
        "    item_price_old = item.find('li',  class_=\"price-was\").get_text().strip()\n",
        "    original_price.append(item_price_old[0:7])\n",
        "    \n",
        "    current_prices = item.find('li', {'class' : \"price-current\"})\n",
        "    item_price_current = '$' + (current_prices.strong).get_text() + (current_prices.sup).get_text()\n",
        "    current_price.append(item_price_current if item_price_current else N/A)\n",
        "    \n",
        "    shipping = item.find('li',  {'class' :\"price-ship\"}).get_text().strip()\n",
        "    ship.append(shipping)\n",
        "    \n",
        "\n",
        "print(name)\n",
        "print('\\n')\n",
        "print(branding)\n",
        "print('\\n')\n",
        "print(original_price)\n",
        "print('\\n')\n",
        "print(current_price)\n",
        "print('\\n')\n",
        "print('shipping: ', ship) "
      ],
      "execution_count": 0,
      "outputs": [
        {
          "output_type": "stream",
          "text": [
            "[]\n",
            "\n",
            "\n",
            "[]\n",
            "\n",
            "\n",
            "[]\n",
            "\n",
            "\n",
            "[]\n",
            "\n",
            "\n",
            "shipping:  []\n"
          ],
          "name": "stdout"
        }
      ]
    },
    {
      "cell_type": "code",
      "metadata": {
        "id": "TKuhbNGM0sVs",
        "colab_type": "code",
        "outputId": "1cb1e992-0e1e-4742-a2f8-2ba3d102c3ad",
        "colab": {
          "base_uri": "https://localhost:8080/",
          "height": 34
        }
      },
      "source": [
        "len(wanted)"
      ],
      "execution_count": 0,
      "outputs": [
        {
          "output_type": "execute_result",
          "data": {
            "text/plain": [
              "0"
            ]
          },
          "metadata": {
            "tags": []
          },
          "execution_count": 13
        }
      ]
    },
    {
      "cell_type": "code",
      "metadata": {
        "id": "omNlnK100sV0",
        "colab_type": "code",
        "outputId": "9a211f5f-c497-42f8-e5c1-afaea1c5bb47",
        "colab": {
          "base_uri": "https://localhost:8080/",
          "height": 212
        }
      },
      "source": [
        "import pandas as pd\n",
        "Newegg_shoes = pd.DataFrame({'Shoe_name': name,\n",
        "'Brand': branding,\n",
        "'Original_price': original_price,\n",
        "'Current_price': current_price,\n",
        "'Shipping': ship\n",
        "})\n",
        "print(Newegg_shoes.info())"
      ],
      "execution_count": 0,
      "outputs": [
        {
          "output_type": "stream",
          "text": [
            "<class 'pandas.core.frame.DataFrame'>\n",
            "RangeIndex: 0 entries\n",
            "Data columns (total 5 columns):\n",
            "Shoe_name         0 non-null float64\n",
            "Brand             0 non-null float64\n",
            "Original_price    0 non-null float64\n",
            "Current_price     0 non-null float64\n",
            "Shipping          0 non-null float64\n",
            "dtypes: float64(5)\n",
            "memory usage: 124.0 bytes\n",
            "None\n"
          ],
          "name": "stdout"
        }
      ]
    },
    {
      "cell_type": "code",
      "metadata": {
        "id": "CtYUO1tu0sV7",
        "colab_type": "code",
        "outputId": "73d25ce1-57d1-4096-8523-2452cacd720a",
        "colab": {}
      },
      "source": [
        "print(len(name))\n",
        "print(len(branding))\n",
        "print(len(original_price))\n",
        "print(len(current_price))\n",
        "print(len(ship))\n",
        "#https://www.dataquest.io/blog/web-scraping-beautifulsoup/"
      ],
      "execution_count": 0,
      "outputs": [
        {
          "output_type": "stream",
          "text": [
            "36\n",
            "36\n",
            "36\n",
            "36\n",
            "36\n"
          ],
          "name": "stdout"
        }
      ]
    },
    {
      "cell_type": "markdown",
      "metadata": {
        "id": "H3sxGzdW0sWC",
        "colab_type": "text"
      },
      "source": [
        "Now to scrape data from multiple pages"
      ]
    },
    {
      "cell_type": "code",
      "metadata": {
        "id": "huJh874w0sWE",
        "colab_type": "code",
        "colab": {}
      },
      "source": [
        "import csv\n",
        "import requests\n",
        "from bs4 import BeautifulSoup    \n",
        "import datetime\n",
        "\n",
        "end_page_num = 50\n",
        "\n",
        "filename = \"new_egg_shoes.csv\"\n",
        "with open(filename, \"w+\") as f:\n",
        "\n",
        "    writer = csv.writer(f)\n",
        "    writer.writerow([\"Name\",\"Normal_price\",\"Discount_price\", 'Shipping', 'Data'])\n",
        "    i = 1\n",
        "    while i <= end_page_num:\n",
        "\n",
        "        r = requests.get(\"https://www.newegg.com/p/pl?d=shoes&Page={}\".format(i))\n",
        "\n",
        "        soup = BeautifulSoup(r.text, \"html.parser\")\n",
        "        list_wrap = soup.findAll('div', {'class' : 'item-container'})\n",
        "        x = list_wrap[4:]\n",
        "        \n",
        "        for item in x:\n",
        "            Name = item.find('a', class_ = 'item-title').get_text()\n",
        "    \n",
        "            item_price_old = item.find('li',  class_=\"price-was\").get_text().strip()\n",
        "            Normal_price = item_price_old[0:7]\n",
        "    \n",
        "            current_prices = item.find('li', {'class' : \"price-current\"})\n",
        "            Discount_price = '$' + (current_prices.strong).get_text() + (current_prices.sup).get_text()\n",
        "    \n",
        "            Shipping = item.find('li',  {'class' :\"price-ship\"}).get_text().strip()\n",
        "            writer.writerow([Name, Normal_price, Discount_price, Shipping, datetime.datetime.now()])\n",
        "        i += 1"
      ],
      "execution_count": 0,
      "outputs": []
    },
    {
      "cell_type": "code",
      "metadata": {
        "id": "PnpaQUOd0sWL",
        "colab_type": "code",
        "colab": {}
      },
      "source": [
        "new_egg = pd.read_csv('new_egg_shoes.csv', encoding='latin-1')"
      ],
      "execution_count": 0,
      "outputs": []
    },
    {
      "cell_type": "code",
      "metadata": {
        "id": "NxED-t8P0sWR",
        "colab_type": "code",
        "outputId": "5a5602a0-507c-4952-9002-661ba53295ef",
        "colab": {
          "base_uri": "https://localhost:8080/",
          "height": 47
        }
      },
      "source": [
        "new_egg.head()"
      ],
      "execution_count": 0,
      "outputs": [
        {
          "output_type": "execute_result",
          "data": {
            "text/html": [
              "<div>\n",
              "<style scoped>\n",
              "    .dataframe tbody tr th:only-of-type {\n",
              "        vertical-align: middle;\n",
              "    }\n",
              "\n",
              "    .dataframe tbody tr th {\n",
              "        vertical-align: top;\n",
              "    }\n",
              "\n",
              "    .dataframe thead th {\n",
              "        text-align: right;\n",
              "    }\n",
              "</style>\n",
              "<table border=\"1\" class=\"dataframe\">\n",
              "  <thead>\n",
              "    <tr style=\"text-align: right;\">\n",
              "      <th></th>\n",
              "      <th>Name</th>\n",
              "      <th>Normal_price</th>\n",
              "      <th>Discount_price</th>\n",
              "      <th>Shipping</th>\n",
              "      <th>Data</th>\n",
              "    </tr>\n",
              "  </thead>\n",
              "  <tbody>\n",
              "  </tbody>\n",
              "</table>\n",
              "</div>"
            ],
            "text/plain": [
              "Empty DataFrame\n",
              "Columns: [Name, Normal_price, Discount_price, Shipping, Data]\n",
              "Index: []"
            ]
          },
          "metadata": {
            "tags": []
          },
          "execution_count": 20
        }
      ]
    },
    {
      "cell_type": "code",
      "metadata": {
        "id": "f0MzE-O30sWY",
        "colab_type": "code",
        "outputId": "4ef0f54c-4032-42cb-bd2f-6280e0a773ad",
        "colab": {
          "base_uri": "https://localhost:8080/",
          "height": 194
        }
      },
      "source": [
        "new_egg.info()"
      ],
      "execution_count": 0,
      "outputs": [
        {
          "output_type": "stream",
          "text": [
            "<class 'pandas.core.frame.DataFrame'>\n",
            "Index: 0 entries\n",
            "Data columns (total 5 columns):\n",
            "Name              0 non-null object\n",
            "Normal_price      0 non-null object\n",
            "Discount_price    0 non-null object\n",
            "Shipping          0 non-null object\n",
            "Data              0 non-null object\n",
            "dtypes: object(5)\n",
            "memory usage: 0.0+ bytes\n"
          ],
          "name": "stdout"
        }
      ]
    },
    {
      "cell_type": "code",
      "metadata": {
        "id": "3zA7lXJK0sWf",
        "colab_type": "code",
        "outputId": "d03e49f3-8fb4-4dc0-b67e-4861d74c4ce5",
        "colab": {}
      },
      "source": [
        "new_egg['Normal_price'].head(20)"
      ],
      "execution_count": 0,
      "outputs": [
        {
          "output_type": "execute_result",
          "data": {
            "text/plain": [
              "0          NaN\n",
              "1      $130.00\n",
              "2          NaN\n",
              "3          NaN\n",
              "4          NaN\n",
              "5          NaN\n",
              "6      $120.00\n",
              "7     $90.00\\r\n",
              "8     $95.98\\r\n",
              "9      $199.00\n",
              "10     $199.00\n",
              "11     $117.49\n",
              "12         NaN\n",
              "13    $95.98\\r\n",
              "14    $87.50\\r\n",
              "15    $75.00\\r\n",
              "16    $75.00\\r\n",
              "17    $38.00\\r\n",
              "18         NaN\n",
              "19         NaN\n",
              "Name: Normal_price, dtype: object"
            ]
          },
          "metadata": {
            "tags": []
          },
          "execution_count": 51
        }
      ]
    },
    {
      "cell_type": "code",
      "metadata": {
        "id": "uTQE9vBd0sWm",
        "colab_type": "code",
        "colab": {}
      },
      "source": [
        ""
      ],
      "execution_count": 0,
      "outputs": []
    }
  ]
}