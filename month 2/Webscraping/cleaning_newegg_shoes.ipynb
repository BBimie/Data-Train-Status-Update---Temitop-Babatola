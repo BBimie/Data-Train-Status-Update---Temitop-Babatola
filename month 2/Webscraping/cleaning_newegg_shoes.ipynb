{
  "nbformat": 4,
  "nbformat_minor": 0,
  "metadata": {
    "colab": {
      "name": "cleaning newegg_shoes.ipynb",
      "provenance": [],
      "collapsed_sections": []
    },
    "kernelspec": {
      "name": "python3",
      "display_name": "Python 3"
    }
  },
  "cells": [
    {
      "cell_type": "code",
      "metadata": {
        "id": "jBavDWdTivAY",
        "colab_type": "code",
        "colab": {}
      },
      "source": [
        "import pandas as pd\n",
        "import matplotlib.pyplot as plt\n",
        "%matplotlib inline\n",
        "import numpy as np"
      ],
      "execution_count": 0,
      "outputs": []
    },
    {
      "cell_type": "code",
      "metadata": {
        "id": "AK9w23B3i7F7",
        "colab_type": "code",
        "colab": {
          "resources": {
            "http://localhost:8080/nbextensions/google.colab/files.js": {
              "data": "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",
              "ok": true,
              "headers": [
                [
                  "content-type",
                  "application/javascript"
                ]
              ],
              "status": 200,
              "status_text": ""
            }
          },
          "base_uri": "https://localhost:8080/",
          "height": 74
        },
        "outputId": "2999e50f-9800-4b9c-cb33-f5fc5d1a6c65"
      },
      "source": [
        "from google.colab import files\n",
        "uploaded = files.upload()"
      ],
      "execution_count": 2,
      "outputs": [
        {
          "output_type": "display_data",
          "data": {
            "text/html": [
              "\n",
              "     <input type=\"file\" id=\"files-bd5e14e1-5829-4ad3-af38-43d5ea9515c8\" name=\"files[]\" multiple disabled />\n",
              "     <output id=\"result-bd5e14e1-5829-4ad3-af38-43d5ea9515c8\">\n",
              "      Upload widget is only available when the cell has been executed in the\n",
              "      current browser session. Please rerun this cell to enable.\n",
              "      </output>\n",
              "      <script src=\"/nbextensions/google.colab/files.js\"></script> "
            ],
            "text/plain": [
              "<IPython.core.display.HTML object>"
            ]
          },
          "metadata": {
            "tags": []
          }
        },
        {
          "output_type": "stream",
          "text": [
            "Saving new_egg_shoes.csv to new_egg_shoes.csv\n"
          ],
          "name": "stdout"
        }
      ]
    },
    {
      "cell_type": "code",
      "metadata": {
        "id": "wD7ZnMOGjC_0",
        "colab_type": "code",
        "colab": {
          "base_uri": "https://localhost:8080/",
          "height": 347
        },
        "outputId": "64995607-e29f-4c4d-e0d5-88a783525afc"
      },
      "source": [
        "shoes = pd.read_csv('new_egg_shoes.csv')\n",
        "shoes.head(10)"
      ],
      "execution_count": 3,
      "outputs": [
        {
          "output_type": "execute_result",
          "data": {
            "text/html": [
              "<div>\n",
              "<style scoped>\n",
              "    .dataframe tbody tr th:only-of-type {\n",
              "        vertical-align: middle;\n",
              "    }\n",
              "\n",
              "    .dataframe tbody tr th {\n",
              "        vertical-align: top;\n",
              "    }\n",
              "\n",
              "    .dataframe thead th {\n",
              "        text-align: right;\n",
              "    }\n",
              "</style>\n",
              "<table border=\"1\" class=\"dataframe\">\n",
              "  <thead>\n",
              "    <tr style=\"text-align: right;\">\n",
              "      <th></th>\n",
              "      <th>Name</th>\n",
              "      <th>Normal_price</th>\n",
              "      <th>Discount_price</th>\n",
              "      <th>Shipping</th>\n",
              "      <th>Data</th>\n",
              "    </tr>\n",
              "  </thead>\n",
              "  <tbody>\n",
              "    <tr>\n",
              "      <th>0</th>\n",
              "      <td>Nike Satire L Black/Black-Anthracite 654431-00...</td>\n",
              "      <td>NaN</td>\n",
              "      <td>$21.50</td>\n",
              "      <td>Free Shipping</td>\n",
              "      <td>2019-12-30 10:50:21.362553</td>\n",
              "    </tr>\n",
              "    <tr>\n",
              "      <th>1</th>\n",
              "      <td>Lucky Brand Mens Gaston Leather Plain Toe Boot</td>\n",
              "      <td>$130.00</td>\n",
              "      <td>$89.99</td>\n",
              "      <td>Free Shipping</td>\n",
              "      <td>2019-12-30 10:50:21.362553</td>\n",
              "    </tr>\n",
              "    <tr>\n",
              "      <th>2</th>\n",
              "      <td>Adidas ZX Flux W White/White-Gold BY9216 Women...</td>\n",
              "      <td>NaN</td>\n",
              "      <td>$19.74</td>\n",
              "      <td>Free Shipping</td>\n",
              "      <td>2019-12-30 10:50:21.362553</td>\n",
              "    </tr>\n",
              "    <tr>\n",
              "      <th>3</th>\n",
              "      <td>Nike Men's Tennis Classic CS Suede Tennis Shoe</td>\n",
              "      <td>NaN</td>\n",
              "      <td>$21.50</td>\n",
              "      <td>Free Shipping</td>\n",
              "      <td>2019-12-30 10:50:21.362553</td>\n",
              "    </tr>\n",
              "    <tr>\n",
              "      <th>4</th>\n",
              "      <td>Puma Fat Lace + Steel Grey/Mulberry Purple  Me...</td>\n",
              "      <td>NaN</td>\n",
              "      <td>$21.50</td>\n",
              "      <td>Free Shipping</td>\n",
              "      <td>2019-12-30 10:50:21.362553</td>\n",
              "    </tr>\n",
              "    <tr>\n",
              "      <th>5</th>\n",
              "      <td>Puma Clyde X Undftd Snakeskin Ribbon Red 35391...</td>\n",
              "      <td>NaN</td>\n",
              "      <td>$21.50</td>\n",
              "      <td>Free Shipping</td>\n",
              "      <td>2019-12-30 10:50:21.378181</td>\n",
              "    </tr>\n",
              "    <tr>\n",
              "      <th>6</th>\n",
              "      <td>Puma Clyde Court Reform Meek  Mens Red Athleti...</td>\n",
              "      <td>$120.00</td>\n",
              "      <td>$92.99</td>\n",
              "      <td>Free Shipping</td>\n",
              "      <td>2019-12-30 10:50:21.378181</td>\n",
              "    </tr>\n",
              "    <tr>\n",
              "      <th>7</th>\n",
              "      <td>Puma Palace Guard Red October  Mens Red Athlet...</td>\n",
              "      <td>$90.00\\r</td>\n",
              "      <td>$44.99</td>\n",
              "      <td>Free Shipping</td>\n",
              "      <td>2019-12-30 10:50:21.378181</td>\n",
              "    </tr>\n",
              "    <tr>\n",
              "      <th>8</th>\n",
              "      <td>Skechers Urbantrack Wynn Casual Shoes Mens Lac...</td>\n",
              "      <td>$95.98\\r</td>\n",
              "      <td>$64.99</td>\n",
              "      <td>Special Shipping</td>\n",
              "      <td>2019-12-30 10:50:21.378181</td>\n",
              "    </tr>\n",
              "    <tr>\n",
              "      <th>9</th>\n",
              "      <td>Air Cushion Shoes Max 97 Men's Sneakers Sports...</td>\n",
              "      <td>$199.00</td>\n",
              "      <td>$89.00</td>\n",
              "      <td>Free Shipping</td>\n",
              "      <td>2019-12-30 10:50:21.378181</td>\n",
              "    </tr>\n",
              "  </tbody>\n",
              "</table>\n",
              "</div>"
            ],
            "text/plain": [
              "                                                Name  ...                        Data\n",
              "0  Nike Satire L Black/Black-Anthracite 654431-00...  ...  2019-12-30 10:50:21.362553\n",
              "1     Lucky Brand Mens Gaston Leather Plain Toe Boot  ...  2019-12-30 10:50:21.362553\n",
              "2  Adidas ZX Flux W White/White-Gold BY9216 Women...  ...  2019-12-30 10:50:21.362553\n",
              "3     Nike Men's Tennis Classic CS Suede Tennis Shoe  ...  2019-12-30 10:50:21.362553\n",
              "4  Puma Fat Lace + Steel Grey/Mulberry Purple  Me...  ...  2019-12-30 10:50:21.362553\n",
              "5  Puma Clyde X Undftd Snakeskin Ribbon Red 35391...  ...  2019-12-30 10:50:21.378181\n",
              "6  Puma Clyde Court Reform Meek  Mens Red Athleti...  ...  2019-12-30 10:50:21.378181\n",
              "7  Puma Palace Guard Red October  Mens Red Athlet...  ...  2019-12-30 10:50:21.378181\n",
              "8  Skechers Urbantrack Wynn Casual Shoes Mens Lac...  ...  2019-12-30 10:50:21.378181\n",
              "9  Air Cushion Shoes Max 97 Men's Sneakers Sports...  ...  2019-12-30 10:50:21.378181\n",
              "\n",
              "[10 rows x 5 columns]"
            ]
          },
          "metadata": {
            "tags": []
          },
          "execution_count": 3
        }
      ]
    },
    {
      "cell_type": "markdown",
      "metadata": {
        "id": "BnoNRMKejNFy",
        "colab_type": "text"
      },
      "source": [
        "First thing I'm going to do is to get the brand name of each shoe, from inspecting the first ten rows, the brand name is the first word in the name. I'm going to extract the brand names and create a new column for them."
      ]
    },
    {
      "cell_type": "code",
      "metadata": {
        "id": "10gqsWS4jDir",
        "colab_type": "code",
        "colab": {
          "base_uri": "https://localhost:8080/",
          "height": 230
        },
        "outputId": "290ea95c-d594-48a1-e729-7f98b792d8c4"
      },
      "source": [
        "# new data frame with split value columns \n",
        "new = shoes[\"Name\"].str.split(\" \", n = 1, expand = True) \n",
        "  \n",
        "# making separate first name column from new data frame \n",
        "shoes[\"Brand\"]= new[0]\n",
        "shoes[\"Brand\"]"
      ],
      "execution_count": 4,
      "outputs": [
        {
          "output_type": "execute_result",
          "data": {
            "text/plain": [
              "0          Nike\n",
              "1         Lucky\n",
              "2        Adidas\n",
              "3          Nike\n",
              "4          Puma\n",
              "         ...   \n",
              "1795        New\n",
              "1796    Chinese\n",
              "1797        Old\n",
              "1798        Old\n",
              "1799        Old\n",
              "Name: Brand, Length: 1800, dtype: object"
            ]
          },
          "metadata": {
            "tags": []
          },
          "execution_count": 4
        }
      ]
    },
    {
      "cell_type": "markdown",
      "metadata": {
        "id": "bx4-bCnCjcKk",
        "colab_type": "text"
      },
      "source": [
        "I am going to be renaming some columns for better understanding of the dataset"
      ]
    },
    {
      "cell_type": "code",
      "metadata": {
        "id": "FxSJG0EyjDtJ",
        "colab_type": "code",
        "colab": {}
      },
      "source": [
        "shoes.rename(columns={'Normal_price':'Old_price($)', 'Discount_price': 'Current_price($)', 'Data' : 'Date_Scraped'}, inplace=True)"
      ],
      "execution_count": 0,
      "outputs": []
    },
    {
      "cell_type": "code",
      "metadata": {
        "id": "W2NSAa0PjioB",
        "colab_type": "code",
        "colab": {
          "base_uri": "https://localhost:8080/",
          "height": 406
        },
        "outputId": "b7903c76-1c09-4351-9868-dbbd49df092d"
      },
      "source": [
        "#set all the nan values in the old_price column to zero\n",
        "shoes['Old_price($)'] = shoes['Old_price($)'].fillna(0)\n",
        "\n",
        "shoes"
      ],
      "execution_count": 6,
      "outputs": [
        {
          "output_type": "execute_result",
          "data": {
            "text/html": [
              "<div>\n",
              "<style scoped>\n",
              "    .dataframe tbody tr th:only-of-type {\n",
              "        vertical-align: middle;\n",
              "    }\n",
              "\n",
              "    .dataframe tbody tr th {\n",
              "        vertical-align: top;\n",
              "    }\n",
              "\n",
              "    .dataframe thead th {\n",
              "        text-align: right;\n",
              "    }\n",
              "</style>\n",
              "<table border=\"1\" class=\"dataframe\">\n",
              "  <thead>\n",
              "    <tr style=\"text-align: right;\">\n",
              "      <th></th>\n",
              "      <th>Name</th>\n",
              "      <th>Old_price($)</th>\n",
              "      <th>Current_price($)</th>\n",
              "      <th>Shipping</th>\n",
              "      <th>Date_Scraped</th>\n",
              "      <th>Brand</th>\n",
              "    </tr>\n",
              "  </thead>\n",
              "  <tbody>\n",
              "    <tr>\n",
              "      <th>0</th>\n",
              "      <td>Nike Satire L Black/Black-Anthracite 654431-00...</td>\n",
              "      <td>0</td>\n",
              "      <td>$21.50</td>\n",
              "      <td>Free Shipping</td>\n",
              "      <td>2019-12-30 10:50:21.362553</td>\n",
              "      <td>Nike</td>\n",
              "    </tr>\n",
              "    <tr>\n",
              "      <th>1</th>\n",
              "      <td>Lucky Brand Mens Gaston Leather Plain Toe Boot</td>\n",
              "      <td>$130.00</td>\n",
              "      <td>$89.99</td>\n",
              "      <td>Free Shipping</td>\n",
              "      <td>2019-12-30 10:50:21.362553</td>\n",
              "      <td>Lucky</td>\n",
              "    </tr>\n",
              "    <tr>\n",
              "      <th>2</th>\n",
              "      <td>Adidas ZX Flux W White/White-Gold BY9216 Women...</td>\n",
              "      <td>0</td>\n",
              "      <td>$19.74</td>\n",
              "      <td>Free Shipping</td>\n",
              "      <td>2019-12-30 10:50:21.362553</td>\n",
              "      <td>Adidas</td>\n",
              "    </tr>\n",
              "    <tr>\n",
              "      <th>3</th>\n",
              "      <td>Nike Men's Tennis Classic CS Suede Tennis Shoe</td>\n",
              "      <td>0</td>\n",
              "      <td>$21.50</td>\n",
              "      <td>Free Shipping</td>\n",
              "      <td>2019-12-30 10:50:21.362553</td>\n",
              "      <td>Nike</td>\n",
              "    </tr>\n",
              "    <tr>\n",
              "      <th>4</th>\n",
              "      <td>Puma Fat Lace + Steel Grey/Mulberry Purple  Me...</td>\n",
              "      <td>0</td>\n",
              "      <td>$21.50</td>\n",
              "      <td>Free Shipping</td>\n",
              "      <td>2019-12-30 10:50:21.362553</td>\n",
              "      <td>Puma</td>\n",
              "    </tr>\n",
              "    <tr>\n",
              "      <th>...</th>\n",
              "      <td>...</td>\n",
              "      <td>...</td>\n",
              "      <td>...</td>\n",
              "      <td>...</td>\n",
              "      <td>...</td>\n",
              "      <td>...</td>\n",
              "    </tr>\n",
              "    <tr>\n",
              "      <th>1795</th>\n",
              "      <td>New Beautiful Woman Spring Embroidered Shoes H...</td>\n",
              "      <td>0</td>\n",
              "      <td>$34.49</td>\n",
              "      <td>Free Shipping</td>\n",
              "      <td>2019-12-30 10:54:17.165469</td>\n",
              "      <td>New</td>\n",
              "    </tr>\n",
              "    <tr>\n",
              "      <th>1796</th>\n",
              "      <td>Chinese Embroidered Shoes women's singles boot...</td>\n",
              "      <td>0</td>\n",
              "      <td>$21.84</td>\n",
              "      <td>Free Shipping</td>\n",
              "      <td>2019-12-30 10:54:17.181093</td>\n",
              "      <td>Chinese</td>\n",
              "    </tr>\n",
              "    <tr>\n",
              "      <th>1797</th>\n",
              "      <td>Old Beijing Cloth Embroidered Shoes Small Whit...</td>\n",
              "      <td>0</td>\n",
              "      <td>$26.44</td>\n",
              "      <td>Free Shipping</td>\n",
              "      <td>2019-12-30 10:54:17.181093</td>\n",
              "      <td>Old</td>\n",
              "    </tr>\n",
              "    <tr>\n",
              "      <th>1798</th>\n",
              "      <td>Old Beijing Cloth Shoes Thick Sole National St...</td>\n",
              "      <td>0</td>\n",
              "      <td>$31.04</td>\n",
              "      <td>Free Shipping</td>\n",
              "      <td>2019-12-30 10:54:17.181093</td>\n",
              "      <td>Old</td>\n",
              "    </tr>\n",
              "    <tr>\n",
              "      <th>1799</th>\n",
              "      <td>Old Beijing Cloth Shoes Slippers Embroidered S...</td>\n",
              "      <td>0</td>\n",
              "      <td>$26.44</td>\n",
              "      <td>Free Shipping</td>\n",
              "      <td>2019-12-30 10:54:17.181093</td>\n",
              "      <td>Old</td>\n",
              "    </tr>\n",
              "  </tbody>\n",
              "</table>\n",
              "<p>1800 rows × 6 columns</p>\n",
              "</div>"
            ],
            "text/plain": [
              "                                                   Name  ...    Brand\n",
              "0     Nike Satire L Black/Black-Anthracite 654431-00...  ...     Nike\n",
              "1        Lucky Brand Mens Gaston Leather Plain Toe Boot  ...    Lucky\n",
              "2     Adidas ZX Flux W White/White-Gold BY9216 Women...  ...   Adidas\n",
              "3        Nike Men's Tennis Classic CS Suede Tennis Shoe  ...     Nike\n",
              "4     Puma Fat Lace + Steel Grey/Mulberry Purple  Me...  ...     Puma\n",
              "...                                                 ...  ...      ...\n",
              "1795  New Beautiful Woman Spring Embroidered Shoes H...  ...      New\n",
              "1796  Chinese Embroidered Shoes women's singles boot...  ...  Chinese\n",
              "1797  Old Beijing Cloth Embroidered Shoes Small Whit...  ...      Old\n",
              "1798  Old Beijing Cloth Shoes Thick Sole National St...  ...      Old\n",
              "1799  Old Beijing Cloth Shoes Slippers Embroidered S...  ...      Old\n",
              "\n",
              "[1800 rows x 6 columns]"
            ]
          },
          "metadata": {
            "tags": []
          },
          "execution_count": 6
        }
      ]
    },
    {
      "cell_type": "code",
      "metadata": {
        "id": "XiZ2360HjuEg",
        "colab_type": "code",
        "colab": {}
      },
      "source": [
        "#remove the special characters from the price columns and convert the column to a numeric one\n",
        "shoes['Old_price($)'] = shoes['Old_price($)'].str.replace('$', '').str.replace('\\r', '').str.strip().astype(float)\n"
      ],
      "execution_count": 0,
      "outputs": []
    },
    {
      "cell_type": "code",
      "metadata": {
        "id": "Gs01MBfhlfsb",
        "colab_type": "code",
        "colab": {}
      },
      "source": [
        "shoes['Current_price($)'] = shoes['Current_price($)'].str.replace('$', '').str.replace(',', '').str.strip().astype(float)"
      ],
      "execution_count": 0,
      "outputs": []
    },
    {
      "cell_type": "code",
      "metadata": {
        "id": "LlAzhEUQkhWs",
        "colab_type": "code",
        "colab": {
          "base_uri": "https://localhost:8080/",
          "height": 230
        },
        "outputId": "28a27b5f-d30c-44cc-907e-6b941c39c535"
      },
      "source": [
        "#clean the date scraped column\n",
        "new = shoes['Date_Scraped'].str.split(\".\", n = 1, expand = True)\n",
        "shoes['Date_Scraped']= new[0]\n",
        "shoes['Date_Scraped']"
      ],
      "execution_count": 18,
      "outputs": [
        {
          "output_type": "execute_result",
          "data": {
            "text/plain": [
              "0       2019-12-30 10:50:21\n",
              "1       2019-12-30 10:50:21\n",
              "2       2019-12-30 10:50:21\n",
              "3       2019-12-30 10:50:21\n",
              "4       2019-12-30 10:50:21\n",
              "               ...         \n",
              "1795    2019-12-30 10:54:17\n",
              "1796    2019-12-30 10:54:17\n",
              "1797    2019-12-30 10:54:17\n",
              "1798    2019-12-30 10:54:17\n",
              "1799    2019-12-30 10:54:17\n",
              "Name: Date_Scraped, Length: 1800, dtype: object"
            ]
          },
          "metadata": {
            "tags": []
          },
          "execution_count": 18
        }
      ]
    },
    {
      "cell_type": "code",
      "metadata": {
        "id": "Mnfwf8L7rRYg",
        "colab_type": "code",
        "colab": {
          "base_uri": "https://localhost:8080/",
          "height": 230
        },
        "outputId": "768e3c20-bcc0-42b7-8790-9692b45115e5"
      },
      "source": [
        "shoes['Brand'].value_counts()"
      ],
      "execution_count": 46,
      "outputs": [
        {
          "output_type": "execute_result",
          "data": {
            "text/plain": [
              "Air          542\n",
              "Old          341\n",
              "Puma         140\n",
              "Steve        103\n",
              "Chinese       66\n",
              "            ... \n",
              "Baretraps      1\n",
              "MSGM           1\n",
              "XOXO           1\n",
              "Teva           1\n",
              "Radii          1\n",
              "Name: Brand, Length: 114, dtype: int64"
            ]
          },
          "metadata": {
            "tags": []
          },
          "execution_count": 46
        }
      ]
    },
    {
      "cell_type": "code",
      "metadata": {
        "id": "p30Ww6ttreyW",
        "colab_type": "code",
        "colab": {
          "base_uri": "https://localhost:8080/",
          "height": 105
        },
        "outputId": "5bba58c0-d27f-417c-c254-b59abba2f20f"
      },
      "source": [
        "shoes['Shipping'].value_counts()"
      ],
      "execution_count": 47,
      "outputs": [
        {
          "output_type": "execute_result",
          "data": {
            "text/plain": [
              "Free Shipping       1776\n",
              "$10.00 Shipping       18\n",
              "Special Shipping       5\n",
              "$5.00 Shipping         1\n",
              "Name: Shipping, dtype: int64"
            ]
          },
          "metadata": {
            "tags": []
          },
          "execution_count": 47
        }
      ]
    },
    {
      "cell_type": "code",
      "metadata": {
        "id": "elBnNg4zrpxG",
        "colab_type": "code",
        "colab": {
          "base_uri": "https://localhost:8080/",
          "height": 230
        },
        "outputId": "e5447bcd-9ca2-4c2f-be07-a08fe615efe5"
      },
      "source": [
        "shoes['Old_price($)'].value_counts()"
      ],
      "execution_count": 48,
      "outputs": [
        {
          "output_type": "execute_result",
          "data": {
            "text/plain": [
              "199.0    568\n",
              "80.0      58\n",
              "100.0     53\n",
              "110.0     49\n",
              "90.0      44\n",
              "        ... \n",
              "670.0      1\n",
              "97.5       1\n",
              "95.0       1\n",
              "218.0      1\n",
              "514.0      1\n",
              "Name: Old_price($), Length: 83, dtype: int64"
            ]
          },
          "metadata": {
            "tags": []
          },
          "execution_count": 48
        }
      ]
    }
  ]
}