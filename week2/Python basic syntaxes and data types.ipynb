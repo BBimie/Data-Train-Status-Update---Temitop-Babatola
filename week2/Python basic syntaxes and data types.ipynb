{
  "cells": [
    {
      "metadata": {
        "collapsed": true
      },
      "cell_type": "markdown",
      "source": "# Python Basic Syntaxes\n\n- answers to python exercises\n\n1. Expression: an expression is any section of the code that evaluates to a value.\n \n2. Syntax errors are the most basic type of error. They arise when the Python parser is unable to understand a line of code. Most syntax errors are typos, incorrect indentation, or incorrect arguments. \n\n3. PEP8: (Python Enhancement Proposal) PEP 8 is Python's style guide. It's a set of rules for how to format your Python code to maximize its readability.\n\n4. Linter: lint, or a linter, is a tool that analyzes source code to flag programming errors, bugs, stylistic errors, and suspicious constructs.\n\n5. Result of '*' * 10;\n"
    },
    {
      "metadata": {
        "trusted": true
      },
      "cell_type": "code",
      "source": "'*' * 10",
      "execution_count": 3,
      "outputs": [
        {
          "output_type": "execute_result",
          "execution_count": 3,
          "data": {
            "text/plain": "'**********'"
          },
          "metadata": {}
        }
      ]
    },
    {
      "metadata": {},
      "cell_type": "markdown",
      "source": "- Cpython: CPython is the reference implementation of the Python programming language. Written in C and Python. CPython can be defined as both an interpreter and a compiler as it compiles Python code into bytecode before interpreting it.\n\n- Difference between CPython and Jython: CPython is the original implementation, written in C. (The \"C\" part in \"CPython\" refers to the language that was used to write Python interpreter itself.) Jython is the same language (Python), but implemented using Java.\n\n- Difference between CPython and IronPython: CPython is the original implementation, written in C, while IronPython is Python implemented for .NET platform.\n\n- Statement:  A statement is an instruction that the Python interpreter can execute. example is; assignment , print, while , if etc"
    },
    {
      "metadata": {
        "trusted": true
      },
      "cell_type": "code",
      "source": "#print\nprint('Hello World!!!')",
      "execution_count": 4,
      "outputs": [
        {
          "output_type": "stream",
          "text": "Hello World!!!\n",
          "name": "stdout"
        }
      ]
    },
    {
      "metadata": {},
      "cell_type": "markdown",
      "source": "- Indentation: indentation in python signifies a block of code and usually comes after a colon;"
    },
    {
      "metadata": {
        "trusted": false
      },
      "cell_type": "code",
      "source": "if 10 > 6:\n    print('Ten is greater than six')\nelse:\n    print('It is not greater')",
      "execution_count": 2,
      "outputs": [
        {
          "name": "stdout",
          "output_type": "stream",
          "text": "Ten is greater than six\n"
        }
      ]
    },
    {
      "metadata": {
        "trusted": false
      },
      "cell_type": "code",
      "source": "print('Add Comments')\n#adding comments to the code, this is done by add the 'hash' symbol at the beiginning of the comment, this sentence for example is a comment",
      "execution_count": 3,
      "outputs": [
        {
          "name": "stdout",
          "output_type": "stream",
          "text": "Add Comments\n"
        }
      ]
    },
    {
      "metadata": {},
      "cell_type": "markdown",
      "source": "Python has defined keywords, they have a predefined meaning attached, they cannot be used for any other purpose, a few of them are: [for, if, else, import, print, True, False]."
    },
    {
      "metadata": {
        "trusted": false
      },
      "cell_type": "code",
      "source": "help('keywords')  #the complete list of python keywords can be oobtained with this line of code ",
      "execution_count": 4,
      "outputs": [
        {
          "name": "stdout",
          "output_type": "stream",
          "text": "\nHere is a list of the Python keywords.  Enter any keyword to get more help.\n\nFalse               def                 if                  raise\nNone                del                 import              return\nTrue                elif                in                  try\nand                 else                is                  while\nas                  except              lambda              with\nassert              finally             nonlocal            yield\nbreak               for                 not                 \nclass               from                or                  \ncontinue            global              pass                \n\n"
        }
      ]
    },
    {
      "metadata": {},
      "cell_type": "markdown",
      "source": "Python Identifiers: a python program can have variables, functions, classes, modules, packages etc these are called identifiers; a general rule in python is that the name of an identifier should start with an alphabet (lower or upper case) or an underscore (_). Identifiers are also case sensitive which means 'hello' and 'Hello' are not the same."
    },
    {
      "metadata": {
        "trusted": false
      },
      "cell_type": "code",
      "source": "Hello = 'Hello World'\nhello = 'Hi'",
      "execution_count": 5,
      "outputs": []
    },
    {
      "metadata": {
        "trusted": true
      },
      "cell_type": "code",
      "source": "",
      "execution_count": null,
      "outputs": []
    },
    {
      "metadata": {},
      "cell_type": "markdown",
      "source": "# Python Data Types\n- answers to python exercises\n\n- Variable: Variables are containers for storing data values. A variable is created the moment you first assign a value to it.\n- Primitive built-in types in python: Python has four primitive types: integers, floats, booleans and strings.\n- When to use triple quotes: In string assignment triple quotations are used to assign strings with multiple lines .\n- Given (name = 'John Smith') , what does name[1] return?\n > 'o'\n- name[-2]:\n > 't'\n- name[1:-1]: \n > 'ohn Smit'\n- how to get length of name: len(name)\n- what are the escape seqences of python: \n > \\newline - Backslash and newline ignored,\n > \\b - backspace,\n > \\t - horizontal tab,\n > \\v - vertical tab,\n > \\\" - double quote,\n > \\' - single quote,\n >  \\\\ - backlash\n \n- what is the result of f\"{2+2}+{10%3}\"?\nanswer: '4+1'\n - Given (name = 'john smith') , what will name.title() return?\n > 'John Smith'\n - What does strip() do?:  strip() in-built function of Python is used to remove all the leading and trailing spaces from a string. If no parameter is passed then only the leading and trailing spaces are removed\n - What will name.find('Smith') return?: \n > -1\n - value of name after we call name.replace('j', 'k'): 'kohn smith'\n - how to check if name contains 'John' : name.find('John')\n - the three types of numbers in python : integers, floating point numbers (float) and complex numbers"
    },
    {
      "metadata": {
        "trusted": true
      },
      "cell_type": "code",
      "source": "1. number(integer: whole numbers e.g 10, 39 and float: numbers with decimal e.g 10.0, 3.9, 2.50).\n\nCan perform arithemetic operations on them;\n- + & - : addition and subtraction\n- * & / : multiplication and division\n- ** - Exponentia\n- % - Modulus; yields the remainder when the first operand is divided by the second\n- '<' True if the left operand is lower than right one\n- '>' True if the left operand is higher than the right one\n- '>=' True if the left operand is higher than or equal to the right one\n- '<=' True if the left operand is lower than or equal to the right one\n- '==' True if the operands are equal\n- '!= 'True if the operands are not equal",
      "execution_count": 9,
      "outputs": [
        {
          "output_type": "error",
          "ename": "SyntaxError",
          "evalue": "invalid syntax (<ipython-input-9-5024d4bd4a0c>, line 1)",
          "traceback": [
            "\u001b[0;36m  File \u001b[0;32m\"<ipython-input-9-5024d4bd4a0c>\"\u001b[0;36m, line \u001b[0;32m1\u001b[0m\n\u001b[0;31m    1. number(integer: whole numbers e.g 10, 39 and float: numbers with decimal e.g 10.0, 3.9, 2.50).\u001b[0m\n\u001b[0m            ^\u001b[0m\n\u001b[0;31mSyntaxError\u001b[0m\u001b[0;31m:\u001b[0m invalid syntax\n"
          ]
        }
      ]
    },
    {
      "metadata": {
        "trusted": true
      },
      "cell_type": "code",
      "source": "int1 = 428\ntype(int1)",
      "execution_count": null,
      "outputs": []
    },
    {
      "metadata": {
        "trusted": true
      },
      "cell_type": "code",
      "source": "flt1 = 4.28\ntype(flt1)",
      "execution_count": 10,
      "outputs": [
        {
          "output_type": "execute_result",
          "execution_count": 10,
          "data": {
            "text/plain": "float"
          },
          "metadata": {}
        }
      ]
    },
    {
      "metadata": {},
      "cell_type": "markdown",
      "source": "2. String: A string value is a collection of one or more characters put in single, double or triple quotes."
    },
    {
      "metadata": {
        "trusted": true
      },
      "cell_type": "code",
      "source": "str1 = 'Hakuna matata'\ntype(str1)",
      "execution_count": 11,
      "outputs": [
        {
          "output_type": "execute_result",
          "execution_count": 11,
          "data": {
            "text/plain": "str"
          },
          "metadata": {}
        }
      ]
    },
    {
      "metadata": {},
      "cell_type": "markdown",
      "source": "There are special operators for string processing;"
    },
    {
      "metadata": {
        "trusted": true
      },
      "cell_type": "code",
      "source": "#1. +: used to append one string to another, concatenation\n\nstr1 = 'House '\nstr2 = 'Keeper'\nstr3 = str1 + str2\nprint(str3)",
      "execution_count": 12,
      "outputs": [
        {
          "output_type": "stream",
          "text": "House Keeper\n",
          "name": "stdout"
        }
      ]
    },
    {
      "metadata": {},
      "cell_type": "markdown",
      "source": "- *: Concatenates multiple copies of the same string\n- []- Returns the character at the given index, slicing\n- [ : ]- Fetches the characters in the range specified by two index operands separated by the : symbol\n- in - Returns true if a character exists in the given string\n- not in: Returns true if a character does not exist in the given string\n\nbuilt in string methods:\n- str(): Converts other data types like float and int into strings\n- capitalize(): Converts the first character of a string to uppercase letters.\n- upper(): Replaces the lowercase characters in a string with corresponding uppercase characters.\n- lower(): Replaces the uppercase characters in a string with corresponding lowercase characters.\n- title(): Returns the string with the first character of each word converted to uppercase.\n- find(): finds the first occurrence of a substring in another string. If not found, the method returns -1. etc"
    },
    {
      "metadata": {},
      "cell_type": "markdown",
      "source": "3. Boolean: Data with one of two built-in values True or False"
    },
    {
      "metadata": {},
      "cell_type": "markdown",
      "source": "4 . List- A list object is an ordered collection of one or more data items, not necessarily of the same type, put in square brackets. Lists are MUTABLE. The operators used with strings are also available for use with the list (and tuple also). eg;\n'+' Concatenation, '*' Repitition, '[]' slice etc"
    },
    {
      "metadata": {
        "trusted": true
      },
      "cell_type": "code",
      "source": "lst1 = [2, 4, 'one']",
      "execution_count": 13,
      "outputs": []
    },
    {
      "metadata": {},
      "cell_type": "markdown",
      "source": "Built in list methods:\n- len() : method returns the number of elements in the list/tuple.\n- min() : returns the smallest number, if the list contains numbers. If the list contains strings, the one that comes first in alphabetical order will be returned.\n- max() : returns the largest number, if the list contains numbers. If the list contains strings, the one that comes last in alphabetical order will be returned\n- append(): adds an element to the end of a list\n- insert(): adds an element to the list at the specified index\n- remove(): removes a specified element\n- pop(): removes and returns the last element\n- reverse(): Reverses the order of the items in a list.\n- sort(): Rearranges the items in the list according to the alphabetical order.\n- list(): converts a tuple or string to a list object"
    },
    {
      "metadata": {},
      "cell_type": "markdown",
      "source": "5. Tuple- A Tuple object is an ordered collection of one or more data items, not necessarily of the same type, put in parentheses e.g ('eight', 5, 9). Tuples are IMUTABLE.\n\nHas the same operations as list object\n\n- tuple(): converts a list to a tuple object"
    },
    {
      "metadata": {},
      "cell_type": "markdown",
      "source": "6. Dictionary-  dictionary object is an unordered collection of data in a key:value pair form enclosed in \ncurly brackets e.g {1: 'one' 4: 'four', 10: 'ten'}. dictionaries are MUTABLE"
    },
    {
      "metadata": {
        "trusted": false
      },
      "cell_type": "code",
      "source": "capitals={\"USA\":\"Washington, D.C.\", \"France\":\"Paris\", \"India\":\"New Delhi\"} #declares a dictionary object",
      "execution_count": 11,
      "outputs": []
    },
    {
      "metadata": {},
      "cell_type": "markdown",
      "source": "Dictionary operations;\n\n# 1. \nAccessing a Dictionary: Dictionary is not an ordered collection, so a value cannot be accessed using an index in\nsquare brackets. A value in a dictionary can be fetched using the associated key, \na. using the get() method, specify the key in the get() method to retrieve its value.\nb. using the for loop to iterate a dictionary in the Python script.\n\n# 2.\nUpdating a Dictionary: a key cannot appear more than once. Use the same key and assign a new value to it to update the dictionary object.\n\n# 3.\nDeleting Values from a Dictionary: Use the del keyword to delete a pair from a dictionary or the dictionary object itself. To delete a pair, use its key as parameter. To delete a dictionary object, use its name.\n\n# 4.\nView Keys and Values: keys() and values() methods of Python dictionary class return a view object consisting of keys and values respectively\n\n\nBuilt-in Dictionary Methods\n>> len(), max(), min(), pop()\nitems(): Returns a list of tuples, each tuple containing the key and value of each pair.\nkeys(): Returns a list object comprising of the keys in the dictionary.\nvalues(): Returns a list object comprising of the values in the dictionary.\nupdate(): Adds key-value pairs from the second dictionary object to the first. If the second dictionary contains a key already used in \nfirst dictionary object, its value is updated."
    },
    {
      "metadata": {},
      "cell_type": "markdown",
      "source": "7. Set- collection of data types in Python, same as the list and tuple. However, it is not an ordered collection of objects. \n\nset operation:\n- union() or |: The union of two sets is a set of all elements from both the collections.\n- intersection() or & : The intersection of two sets is a set containing elements common to both collections.\n- difference() or - : The difference of two sets results in a set containing elements only in the first set, but not in the second set.\n- Symmetric_difference() or ^ : the result of symmetric difference is a set consisting of elements in both sets, excluding the common elements.\n\nBuilt-in Set Methods\n- add() : Adds a new element in the set object.\n- update(): Adds multiple items from a list or a tuple.\n- clear(): Removes the contents of set object and results in an empty set.\n- copy(): Creates a copy of the set object.\n- discard(): Returns a set after removing an item from it\n- remove(): Returns a set after removing an item from it.\n"
    },
    {
      "metadata": {
        "trusted": false
      },
      "cell_type": "code",
      "source": "S1 = {1, \"Bill\", 75.50} #defines a set object",
      "execution_count": 12,
      "outputs": []
    },
    {
      "metadata": {
        "trusted": false
      },
      "cell_type": "code",
      "source": "",
      "execution_count": null,
      "outputs": []
    }
  ],
  "metadata": {
    "kernelspec": {
      "name": "python36",
      "display_name": "Python 3.6",
      "language": "python"
    },
    "language_info": {
      "mimetype": "text/x-python",
      "nbconvert_exporter": "python",
      "name": "python",
      "pygments_lexer": "ipython3",
      "version": "3.6.6",
      "file_extension": ".py",
      "codemirror_mode": {
        "version": 3,
        "name": "ipython"
      }
    }
  },
  "nbformat": 4,
  "nbformat_minor": 2
}
