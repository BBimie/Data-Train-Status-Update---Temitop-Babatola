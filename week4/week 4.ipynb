{
  "cells": [
    {
      "metadata": {
        "collapsed": true
      },
      "cell_type": "markdown",
      "source": "# Python Exercises"
    },
    {
      "metadata": {
        "trusted": true
      },
      "cell_type": "code",
      "source": "# 1. Write a function that returns the maximum of two numbers.\n\ndef maxnum(num1, num2):\n    return max(num1, num2)\n\nmaxnum(8, 5)",
      "execution_count": 4,
      "outputs": [
        {
          "output_type": "execute_result",
          "execution_count": 4,
          "data": {
            "text/plain": "8"
          },
          "metadata": {}
        }
      ]
    },
    {
      "metadata": {
        "trusted": true
      },
      "cell_type": "code",
      "source": "# 3. Write a function for checking the speed of drivers. This function should have one parameter: speed.\n# - If speed is less than 70, it should print “Ok”. Otherwise, for every 5km above the speed limit (70), it should give the driver one demerit point and print the total number of demerit points. For example, if the speed is 80, it should print: “Points: 2”. If the driver gets more than 12 points, the function should print: “License suspended” \n\ndef speedchecker(speed):\n    if speed < 70:\n        print('Ok')\n    else:\n        demerit_point = int((speed - 70)/5)\n        if demerit_point <= 12:\n            print('Points: ', demerit_point)\n        else:\n            print('License Suspended')\n            \nspeedchecker(140)",
      "execution_count": 12,
      "outputs": [
        {
          "output_type": "stream",
          "text": "License Suspended\n",
          "name": "stdout"
        }
      ]
    },
    {
      "metadata": {
        "trusted": true
      },
      "cell_type": "code",
      "source": "# 4. Write a function called showNumbers that takes a parameter called limit. It should print all the numbers between 0 and limit with a label to identify the even and odd numbers. For example, if the limit is 3, it should print:\n#0 EVEN;   1 ODD;   2 EVEN;    3 ODD\n\n\ndef showNumbers(zero, limit):\n    for n in range(zero,limit+1):\n        if n%2==0:\n            print(n , 'EVEN')\n        else:\n            print(n , 'ODD')\n                    \n        \nshowNumbers(0,5)",
      "execution_count": 26,
      "outputs": [
        {
          "output_type": "stream",
          "text": "0 EVEN\n1 ODD\n2 EVEN\n3 ODD\n4 EVEN\n5 ODD\n",
          "name": "stdout"
        }
      ]
    },
    {
      "metadata": {
        "trusted": true
      },
      "cell_type": "code",
      "source": "# 5. Write a function that returns the sum of multiples of 3 and 5 between 0 and limit (parameter). \n# For example, if limit is 20, it should return the sum of 3, 5, 6, 9, 10, 12, 15, 18, 20.\n\nmultiples = []\ndef multiplesum( limit):\n    for n in range(0, limit+1):\n        if n%3 ==0 :\n            multiples.append(n)\n        elif n%5 == 0:\n            multiples.append(n)\n    sums = sum(multiples)\n    return sums\n\nmultiplesum (20)",
      "execution_count": 34,
      "outputs": [
        {
          "output_type": "execute_result",
          "execution_count": 34,
          "data": {
            "text/plain": "98"
          },
          "metadata": {}
        }
      ]
    },
    {
      "metadata": {
        "trusted": true
      },
      "cell_type": "code",
      "source": "# 6. Write a function called show_stars(rows). If rows is 5, it should print the following:\n# *\n# **\n# ***\n# ****\n# *****   \n\ndef show_stars(rows):\n    for n in range(0, rows):\n        for i in range(0, n+1):\n            print(\"* \",end=\"\")\n        print('\\n') \nrows = 5\nshow_stars(rows)",
      "execution_count": 39,
      "outputs": [
        {
          "output_type": "stream",
          "text": "* \n\n* * \n\n* * * \n\n* * * * \n\n* * * * * \n\n",
          "name": "stdout"
        }
      ]
    },
    {
      "metadata": {},
      "cell_type": "markdown",
      "source": "# Conditionals\n\n\n\nPython supports the usual logical conditions from mathematics:\n\n- Equals: a == b\n- Not Equals: a != b\n- Less than: a < b\n- Less than or equal to: a <= b\n- Greater than: a > b\n- Greater than or equal to: a >= b\n\nThese conditions can be used in \"if statements\" and loops; IF, ELIF, ELSE\n\nAn \"if statement\" is written by using the if keyword. Python relies on indentation to define scope in the code"
    },
    {
      "metadata": {
        "trusted": true
      },
      "cell_type": "code",
      "source": "a = 33\nb = 200\nif b > a:\n  print(\"b is greater than a\")  ",
      "execution_count": null,
      "outputs": []
    },
    {
      "metadata": {
        "trusted": true
      },
      "cell_type": "markdown",
      "source": "Elif:\nThe elif keyword is pythons way of saying \"if the previous conditions were not true, then try this condition\"."
    },
    {
      "metadata": {
        "trusted": true
      },
      "cell_type": "code",
      "source": "a = 33\nb = 33\nif b > a:\n  print(\"b is greater than a\")\nelif a == b:\n  print(\"a and b are equal\")",
      "execution_count": null,
      "outputs": []
    },
    {
      "metadata": {},
      "cell_type": "markdown",
      "source": "Else:\nThe else keyword catches anything which isn't caught by the preceding conditions."
    },
    {
      "metadata": {
        "trusted": true
      },
      "cell_type": "code",
      "source": "a = 200\nb = 33\nif b > a:\n  print(\"b is greater than a\")\nelif a == b:\n  print(\"a and b are equal\")\nelse:\n  print(\"a is greater than b\")",
      "execution_count": null,
      "outputs": []
    },
    {
      "metadata": {},
      "cell_type": "markdown",
      "source": "- And:\nThe and keyword is a logical operator, and is used to combine conditional statements, prints true if both conditions are true\n\n- Or:\nThe or keyword is a logical operator, and is used to combine conditional statements, prints true if at least one of the conditions are true\n\n- Nested If:\nYou can have if statements inside if statements, this is called nested if statements.\n"
    },
    {
      "metadata": {},
      "cell_type": "markdown",
      "source": "# Functions\nA function is a block of code which only runs when it is called. You can pass data, known as parameters, into a function. A function can return data as a result.\nTo let a function return a value, use the return statement:\n\n"
    },
    {
      "metadata": {
        "trusted": true
      },
      "cell_type": "code",
      "source": "#  Creating a Function: a function is defined using the def keyword \n\ndef my_function():\n    print(\"Hello from the other side...\")",
      "execution_count": 48,
      "outputs": []
    },
    {
      "metadata": {
        "trusted": true
      },
      "cell_type": "code",
      "source": "#  Calling a Function: To call a function, use the function name followed by parenthesis:\n\nmy_function()",
      "execution_count": 49,
      "outputs": [
        {
          "output_type": "stream",
          "text": "Hello from the other side...\n",
          "name": "stdout"
        }
      ]
    },
    {
      "metadata": {},
      "cell_type": "markdown",
      "source": "# -\nParameters: Information can be passed to functions as parameter. Parameters are specified after the function name, inside the parentheses. You can add as many parameters as you want, just separate them with a comma."
    },
    {
      "metadata": {
        "trusted": true
      },
      "cell_type": "code",
      "source": "def function2(line2):\n    return line2\n\nline2 = 'I must have called a thousand times..'\nfunction2(line2)",
      "execution_count": 50,
      "outputs": [
        {
          "output_type": "execute_result",
          "execution_count": 50,
          "data": {
            "text/plain": "'I must have called a thousand times..'"
          },
          "metadata": {}
        }
      ]
    },
    {
      "metadata": {
        "trusted": true
      },
      "cell_type": "code",
      "source": "# We can also pass a Default Parameter Value;\n\ndef function3(artist='Adele'):\n    return artist\nfunction3( )\n  ",
      "execution_count": 51,
      "outputs": [
        {
          "output_type": "execute_result",
          "execution_count": 51,
          "data": {
            "text/plain": "'Adele'"
          },
          "metadata": {}
        }
      ]
    },
    {
      "metadata": {},
      "cell_type": "markdown",
      "source": "You can send any data types of parameter to a function (string, number, list, dictionary etc.), and it will be treated as the same data type inside the function.\n\n"
    },
    {
      "metadata": {
        "trusted": true
      },
      "cell_type": "code",
      "source": "# List\ndef my_function(food):\n  for x in food:\n    print(x)\n\nfruits = [\"apple\", \"banana\", \"orange\"]\n\nmy_function(fruits)\n",
      "execution_count": 52,
      "outputs": [
        {
          "output_type": "stream",
          "text": "apple\nbanana\norange\n",
          "name": "stdout"
        }
      ]
    },
    {
      "metadata": {
        "trusted": true
      },
      "cell_type": "code",
      "source": "",
      "execution_count": null,
      "outputs": []
    }
  ],
  "metadata": {
    "kernelspec": {
      "name": "python36",
      "display_name": "Python 3.6",
      "language": "python"
    },
    "language_info": {
      "mimetype": "text/x-python",
      "nbconvert_exporter": "python",
      "name": "python",
      "pygments_lexer": "ipython3",
      "version": "3.6.6",
      "file_extension": ".py",
      "codemirror_mode": {
        "version": 3,
        "name": "ipython"
      }
    }
  },
  "nbformat": 4,
  "nbformat_minor": 2
}
